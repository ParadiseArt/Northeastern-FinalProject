{
 "cells": [
  {
   "cell_type": "code",
   "metadata": {
    "tags": [],
    "cell_id": "2a57151f-4133-455f-a431-d9e01cc71b5a",
    "deepnote_to_be_reexecuted": false,
    "source_hash": "9b82ee11",
    "execution_start": 1652203288009,
    "execution_millis": 0,
    "deepnote_cell_type": "code",
    "deepnote_cell_height": 81
   },
   "source": "import pandas as pd",
   "execution_count": 1,
   "outputs": []
  },
  {
   "cell_type": "code",
   "metadata": {
    "cell_id": "42b032a4ea8e4086bfcc3efdb948c8dc",
    "tags": [],
    "deepnote_to_be_reexecuted": false,
    "source_hash": "a851723e",
    "execution_start": 1652203288010,
    "execution_millis": 578,
    "deepnote_cell_type": "code",
    "deepnote_cell_height": 226.8000030517578
   },
   "source": "import os\nfor dirname, _, filenames in os.walk('/work/vulnerabilities'):\n    for filename in filenames:\n        print(os.path.join(dirname, filename))",
   "execution_count": 2,
   "outputs": [
    {
     "name": "stdout",
     "text": "/work/vulnerabilities/cve.csv\n/work/vulnerabilities/vendors.csv\n/work/vulnerabilities/vendor_product.csv\n/work/vulnerabilities/products.csv\n",
     "output_type": "stream"
    }
   ]
  },
  {
   "cell_type": "code",
   "metadata": {
    "cell_id": "cd58200db5564e2c9467afecc40f2d23",
    "tags": [],
    "deepnote_to_be_reexecuted": false,
    "source_hash": "276aeda6",
    "execution_start": 1652203288012,
    "execution_millis": 810,
    "deepnote_cell_type": "code",
    "deepnote_cell_height": 81
   },
   "source": "cve = pd.read_csv('/work/vulnerabilities/cve.csv')",
   "execution_count": 3,
   "outputs": []
  },
  {
   "cell_type": "markdown",
   "source": "## The following code cells explore the data frames we got from `.csv` files 🔍",
   "metadata": {
    "cell_id": "7ffabd8ab7ae4a2988f305d0ddee004b",
    "tags": [],
    "deepnote_cell_type": "markdown",
    "deepnote_cell_height": 110
   }
  },
  {
   "cell_type": "code",
   "source": "cve.shape ## shape method gets numbers of (rows , columns)",
   "metadata": {
    "cell_id": "500af4fc2d974ec5ba38de370dcaaee8",
    "tags": [],
    "deepnote_to_be_reexecuted": false,
    "source_hash": "a2ffe29c",
    "execution_start": 1652203891069,
    "execution_millis": 12,
    "deepnote_cell_type": "code",
    "deepnote_cell_height": 118,
    "deepnote_output_heights": [
     21
    ]
   },
   "outputs": [
    {
     "output_type": "execute_result",
     "execution_count": 8,
     "data": {
      "text/plain": "(89660, 13)"
     },
     "metadata": {}
    }
   ],
   "execution_count": 8
  },
  {
   "cell_type": "code",
   "source": "cve.info() # info gets data types of all columns",
   "metadata": {
    "cell_id": "b9d93608b9064231aa4469afd61e4663",
    "tags": [],
    "deepnote_to_be_reexecuted": false,
    "source_hash": "76d919ac",
    "execution_start": 1652203950573,
    "execution_millis": 65,
    "deepnote_cell_type": "code",
    "deepnote_cell_height": 496
   },
   "outputs": [
    {
     "name": "stdout",
     "text": "<class 'pandas.core.frame.DataFrame'>\nRangeIndex: 89660 entries, 0 to 89659\nData columns (total 13 columns):\n #   Column                  Non-Null Count  Dtype  \n---  ------                  --------------  -----  \n 0   Unnamed: 0              89660 non-null  object \n 1   mod_date                89660 non-null  object \n 2   pub_date                89660 non-null  object \n 3   cvss                    89660 non-null  float64\n 4   cwe_code                89660 non-null  int64  \n 5   cwe_name                89660 non-null  object \n 6   summary                 89660 non-null  object \n 7   access_authentication   88776 non-null  object \n 8   access_complexity       88776 non-null  object \n 9   access_vector           88776 non-null  object \n 10  impact_availability     88776 non-null  object \n 11  impact_confidentiality  88776 non-null  object \n 12  impact_integrity        88776 non-null  object \ndtypes: float64(1), int64(1), object(11)\nmemory usage: 8.9+ MB\n",
     "output_type": "stream"
    }
   ],
   "execution_count": 11
  },
  {
   "cell_type": "code",
   "source": "cve.describe() # describe gets stats",
   "metadata": {
    "cell_id": "6579134f0b604ad5ba86fd76804fb3cf",
    "tags": [],
    "deepnote_to_be_reexecuted": false,
    "source_hash": "ed127bb4",
    "execution_start": 1652203967001,
    "execution_millis": 50,
    "deepnote_cell_type": "code",
    "deepnote_cell_height": 518
   },
   "outputs": [
    {
     "output_type": "execute_result",
     "execution_count": 12,
     "data": {
      "application/vnd.deepnote.dataframe.v3+json": {
       "column_count": 2,
       "row_count": 8,
       "columns": [
        {
         "name": "cvss",
         "dtype": "float64",
         "stats": {
          "unique_count": 8,
          "nan_count": 0,
          "min": "0.0",
          "max": "89660.0",
          "histogram": [
           {
            "bin_start": 0,
            "bin_end": 8966,
            "count": 7
           },
           {
            "bin_start": 8966,
            "bin_end": 17932,
            "count": 0
           },
           {
            "bin_start": 17932,
            "bin_end": 26898,
            "count": 0
           },
           {
            "bin_start": 26898,
            "bin_end": 35864,
            "count": 0
           },
           {
            "bin_start": 35864,
            "bin_end": 44830,
            "count": 0
           },
           {
            "bin_start": 44830,
            "bin_end": 53796,
            "count": 0
           },
           {
            "bin_start": 53796,
            "bin_end": 62762,
            "count": 0
           },
           {
            "bin_start": 62762,
            "bin_end": 71728,
            "count": 0
           },
           {
            "bin_start": 71728,
            "bin_end": 80694,
            "count": 0
           },
           {
            "bin_start": 80694,
            "bin_end": 89660,
            "count": 1
           }
          ]
         }
        },
        {
         "name": "cwe_code",
         "dtype": "float64",
         "stats": {
          "unique_count": 8,
          "nan_count": 0,
          "min": "1.0",
          "max": "89660.0",
          "histogram": [
           {
            "bin_start": 1,
            "bin_end": 8966.9,
            "count": 7
           },
           {
            "bin_start": 8966.9,
            "bin_end": 17932.8,
            "count": 0
           },
           {
            "bin_start": 17932.8,
            "bin_end": 26898.699999999997,
            "count": 0
           },
           {
            "bin_start": 26898.699999999997,
            "bin_end": 35864.6,
            "count": 0
           },
           {
            "bin_start": 35864.6,
            "bin_end": 44830.5,
            "count": 0
           },
           {
            "bin_start": 44830.5,
            "bin_end": 53796.399999999994,
            "count": 0
           },
           {
            "bin_start": 53796.399999999994,
            "bin_end": 62762.299999999996,
            "count": 0
           },
           {
            "bin_start": 62762.299999999996,
            "bin_end": 71728.2,
            "count": 0
           },
           {
            "bin_start": 71728.2,
            "bin_end": 80694.09999999999,
            "count": 0
           },
           {
            "bin_start": 80694.09999999999,
            "bin_end": 89660,
            "count": 1
           }
          ]
         }
        },
        {
         "name": "_deepnote_index_column",
         "dtype": "object"
        }
       ],
       "rows": [
        {
         "cvss": 89660,
         "cwe_code": 89660,
         "_deepnote_index_column": "count"
        },
        {
         "cvss": 6.02142873076065,
         "cwe_code": 199.69085433861252,
         "_deepnote_index_column": "mean"
        },
        {
         "cvss": 1.9947574553783143,
         "cwe_code": 176.17724404608262,
         "_deepnote_index_column": "std"
        },
        {
         "cvss": 0,
         "cwe_code": 1,
         "_deepnote_index_column": "min"
        },
        {
         "cvss": 4.3,
         "cwe_code": 79,
         "_deepnote_index_column": "25%"
        },
        {
         "cvss": 5.8,
         "cwe_code": 119,
         "_deepnote_index_column": "50%"
        },
        {
         "cvss": 7.5,
         "cwe_code": 284,
         "_deepnote_index_column": "75%"
        },
        {
         "cvss": 10,
         "cwe_code": 1188,
         "_deepnote_index_column": "max"
        }
       ]
      },
      "text/plain": "               cvss      cwe_code\ncount  89660.000000  89660.000000\nmean       6.021429    199.690854\nstd        1.994757    176.177244\nmin        0.000000      1.000000\n25%        4.300000     79.000000\n50%        5.800000    119.000000\n75%        7.500000    284.000000\nmax       10.000000   1188.000000",
      "text/html": "<div>\n<style scoped>\n    .dataframe tbody tr th:only-of-type {\n        vertical-align: middle;\n    }\n\n    .dataframe tbody tr th {\n        vertical-align: top;\n    }\n\n    .dataframe thead th {\n        text-align: right;\n    }\n</style>\n<table border=\"1\" class=\"dataframe\">\n  <thead>\n    <tr style=\"text-align: right;\">\n      <th></th>\n      <th>cvss</th>\n      <th>cwe_code</th>\n    </tr>\n  </thead>\n  <tbody>\n    <tr>\n      <th>count</th>\n      <td>89660.000000</td>\n      <td>89660.000000</td>\n    </tr>\n    <tr>\n      <th>mean</th>\n      <td>6.021429</td>\n      <td>199.690854</td>\n    </tr>\n    <tr>\n      <th>std</th>\n      <td>1.994757</td>\n      <td>176.177244</td>\n    </tr>\n    <tr>\n      <th>min</th>\n      <td>0.000000</td>\n      <td>1.000000</td>\n    </tr>\n    <tr>\n      <th>25%</th>\n      <td>4.300000</td>\n      <td>79.000000</td>\n    </tr>\n    <tr>\n      <th>50%</th>\n      <td>5.800000</td>\n      <td>119.000000</td>\n    </tr>\n    <tr>\n      <th>75%</th>\n      <td>7.500000</td>\n      <td>284.000000</td>\n    </tr>\n    <tr>\n      <th>max</th>\n      <td>10.000000</td>\n      <td>1188.000000</td>\n    </tr>\n  </tbody>\n</table>\n</div>"
     },
     "metadata": {}
    }
   ],
   "execution_count": 12
  },
  {
   "cell_type": "code",
   "source": "cve.head()",
   "metadata": {
    "cell_id": "31b2a81affff47b397c296d1848b9830",
    "tags": [],
    "owner_user_id": "3bfb12d7-bb73-4d7b-8185-8ffaf284befd",
    "deepnote_to_be_reexecuted": false,
    "source_hash": "bcfe8dd",
    "execution_start": 1652205090779,
    "execution_millis": 30,
    "deepnote_cell_type": "code",
    "deepnote_cell_height": 412
   },
   "outputs": [
    {
     "output_type": "execute_result",
     "execution_count": 18,
     "data": {
      "application/vnd.deepnote.dataframe.v3+json": {
       "column_count": 13,
       "row_count": 5,
       "columns": [
        {
         "name": "Unnamed: 0",
         "dtype": "object",
         "stats": {
          "unique_count": 5,
          "nan_count": 0,
          "categories": [
           {
            "name": "CVE-2019-16548",
            "count": 1
           },
           {
            "name": "CVE-2019-16547",
            "count": 1
           },
           {
            "name": "3 others",
            "count": 3
           }
          ]
         }
        },
        {
         "name": "mod_date",
         "dtype": "object",
         "stats": {
          "unique_count": 3,
          "nan_count": 0,
          "categories": [
           {
            "name": "2019-11-21 15:15:00",
            "count": 3
           },
           {
            "name": "2019-11-20 21:22:00",
            "count": 1
           },
           {
            "name": "2019-11-20 20:15:00",
            "count": 1
           }
          ]
         }
        },
        {
         "name": "pub_date",
         "dtype": "object",
         "stats": {
          "unique_count": 3,
          "nan_count": 0,
          "categories": [
           {
            "name": "2019-11-21 15:15:00",
            "count": 3
           },
           {
            "name": "2019-11-20 21:15:00",
            "count": 1
           },
           {
            "name": "2019-11-20 20:15:00",
            "count": 1
           }
          ]
         }
        },
        {
         "name": "cvss",
         "dtype": "float64",
         "stats": {
          "unique_count": 4,
          "nan_count": 0,
          "min": "4.0",
          "max": "7.5",
          "histogram": [
           {
            "bin_start": 4,
            "bin_end": 4.35,
            "count": 3
           },
           {
            "bin_start": 4.35,
            "bin_end": 4.7,
            "count": 0
           },
           {
            "bin_start": 4.7,
            "bin_end": 5.05,
            "count": 0
           },
           {
            "bin_start": 5.05,
            "bin_end": 5.4,
            "count": 0
           },
           {
            "bin_start": 5.4,
            "bin_end": 5.75,
            "count": 0
           },
           {
            "bin_start": 5.75,
            "bin_end": 6.1,
            "count": 0
           },
           {
            "bin_start": 6.1,
            "bin_end": 6.449999999999999,
            "count": 0
           },
           {
            "bin_start": 6.449999999999999,
            "bin_end": 6.8,
            "count": 0
           },
           {
            "bin_start": 6.8,
            "bin_end": 7.15,
            "count": 1
           },
           {
            "bin_start": 7.15,
            "bin_end": 7.5,
            "count": 1
           }
          ]
         }
        },
        {
         "name": "cwe_code",
         "dtype": "int64",
         "stats": {
          "unique_count": 5,
          "nan_count": 0,
          "min": "79",
          "max": "732",
          "histogram": [
           {
            "bin_start": 79,
            "bin_end": 144.3,
            "count": 2
           },
           {
            "bin_start": 144.3,
            "bin_end": 209.6,
            "count": 0
           },
           {
            "bin_start": 209.6,
            "bin_end": 274.9,
            "count": 0
           },
           {
            "bin_start": 274.9,
            "bin_end": 340.2,
            "count": 0
           },
           {
            "bin_start": 340.2,
            "bin_end": 405.5,
            "count": 1
           },
           {
            "bin_start": 405.5,
            "bin_end": 470.79999999999995,
            "count": 0
           },
           {
            "bin_start": 470.79999999999995,
            "bin_end": 536.0999999999999,
            "count": 0
           },
           {
            "bin_start": 536.0999999999999,
            "bin_end": 601.4,
            "count": 0
           },
           {
            "bin_start": 601.4,
            "bin_end": 666.6999999999999,
            "count": 1
           },
           {
            "bin_start": 666.6999999999999,
            "bin_end": 732,
            "count": 1
           }
          ]
         }
        },
        {
         "name": "cwe_name",
         "dtype": "object",
         "stats": {
          "unique_count": 5,
          "nan_count": 0,
          "categories": [
           {
            "name": " Cross-Site Request Forgery (CSRF)",
            "count": 1
           },
           {
            "name": " Incorrect Permission Assignment for Critical Resource",
            "count": 1
           },
           {
            "name": "3 others",
            "count": 3
           }
          ]
         }
        },
        {
         "name": "summary",
         "dtype": "object",
         "stats": {
          "unique_count": 5,
          "nan_count": 0,
          "categories": [
           {
            "name": "A cross-site request forgery vulnerability in Jenkins Google Compute Engine Plugin 4.1.1 and earlier in ComputeEngineCloud#doProvision could be used to provision new agents.",
            "count": 1
           },
           {
            "name": "Missing permission checks in various API endpoints in Jenkins Google Compute Engine Plugin 4.1.1 and earlier allow attackers with Overall/Read permission to obtain limited information about the plugin configuration and environment.",
            "count": 1
           },
           {
            "name": "3 others",
            "count": 3
           }
          ]
         }
        },
        {
         "name": "access_authentication",
         "dtype": "object",
         "stats": {
          "unique_count": 0,
          "nan_count": 5,
          "categories": [
           {
            "name": "Missing",
            "count": 5
           }
          ]
         }
        },
        {
         "name": "access_complexity",
         "dtype": "object",
         "stats": {
          "unique_count": 0,
          "nan_count": 5,
          "categories": [
           {
            "name": "Missing",
            "count": 5
           }
          ]
         }
        },
        {
         "name": "access_vector",
         "dtype": "object",
         "stats": {
          "unique_count": 0,
          "nan_count": 5,
          "categories": [
           {
            "name": "Missing",
            "count": 5
           }
          ]
         }
        },
        {
         "name": "impact_availability",
         "dtype": "object",
         "stats": {
          "unique_count": 0,
          "nan_count": 5,
          "categories": [
           {
            "name": "Missing",
            "count": 5
           }
          ]
         }
        },
        {
         "name": "impact_confidentiality",
         "dtype": "object",
         "stats": {
          "unique_count": 0,
          "nan_count": 5,
          "categories": [
           {
            "name": "Missing",
            "count": 5
           }
          ]
         }
        },
        {
         "name": "impact_integrity",
         "dtype": "object",
         "stats": {
          "unique_count": 0,
          "nan_count": 5,
          "categories": [
           {
            "name": "Missing",
            "count": 5
           }
          ]
         }
        },
        {
         "name": "_deepnote_index_column",
         "dtype": "int64"
        }
       ],
       "rows": [
        {
         "Unnamed: 0": "CVE-2019-16548",
         "mod_date": "2019-11-21 15:15:00",
         "pub_date": "2019-11-21 15:15:00",
         "cvss": 6.8,
         "cwe_code": 352,
         "cwe_name": " Cross-Site Request Forgery (CSRF)",
         "summary": "A cross-site request forgery vulnerability in Jenkins Google Compute Engine Plugin 4.1.1 and earlier in ComputeEngineCloud#doProvision could be used to provision new agents.",
         "access_authentication": "nan",
         "access_complexity": "nan",
         "access_vector": "nan",
         "impact_availability": "nan",
         "impact_confidentiality": "nan",
         "impact_integrity": "nan",
         "_deepnote_index_column": 0
        },
        {
         "Unnamed: 0": "CVE-2019-16547",
         "mod_date": "2019-11-21 15:15:00",
         "pub_date": "2019-11-21 15:15:00",
         "cvss": 4,
         "cwe_code": 732,
         "cwe_name": " Incorrect Permission Assignment for Critical Resource",
         "summary": "Missing permission checks in various API endpoints in Jenkins Google Compute Engine Plugin 4.1.1 and earlier allow attackers with Overall/Read permission to obtain limited information about the plugin configuration and environment.",
         "access_authentication": "nan",
         "access_complexity": "nan",
         "access_vector": "nan",
         "impact_availability": "nan",
         "impact_confidentiality": "nan",
         "impact_integrity": "nan",
         "_deepnote_index_column": 1
        },
        {
         "Unnamed: 0": "CVE-2019-16546",
         "mod_date": "2019-11-21 15:15:00",
         "pub_date": "2019-11-21 15:15:00",
         "cvss": 4.3,
         "cwe_code": 639,
         "cwe_name": " Authorization Bypass Through User-Controlled Key",
         "summary": "Jenkins Google Compute Engine Plugin 4.1.1 and earlier does not verify SSH host keys when connecting agents created by the plugin, enabling man-in-the-middle attacks.",
         "access_authentication": "nan",
         "access_complexity": "nan",
         "access_vector": "nan",
         "impact_availability": "nan",
         "impact_confidentiality": "nan",
         "impact_integrity": "nan",
         "_deepnote_index_column": 2
        },
        {
         "Unnamed: 0": "CVE-2013-2092",
         "mod_date": "2019-11-20 21:22:00",
         "pub_date": "2019-11-20 21:15:00",
         "cvss": 4.3,
         "cwe_code": 79,
         "cwe_name": " Improper Neutralization of Input During Web Page Generation ('Cross-site Scripting')",
         "summary": "Cross-site Scripting (XSS) in Dolibarr ERP/CRM 3.3.1 allows remote attackers to inject arbitrary web script or HTML in functions.lib.php.",
         "access_authentication": "nan",
         "access_complexity": "nan",
         "access_vector": "nan",
         "impact_availability": "nan",
         "impact_confidentiality": "nan",
         "impact_integrity": "nan",
         "_deepnote_index_column": 3
        },
        {
         "Unnamed: 0": "CVE-2013-2091",
         "mod_date": "2019-11-20 20:15:00",
         "pub_date": "2019-11-20 20:15:00",
         "cvss": 7.5,
         "cwe_code": 89,
         "cwe_name": " Improper Neutralization of Special Elements used in an SQL Command ('SQL Injection')",
         "summary": "SQL injection vulnerability in Dolibarr ERP/CRM 3.3.1 allows remote attackers to execute arbitrary SQL commands via the 'pays' parameter in fiche.php.",
         "access_authentication": "nan",
         "access_complexity": "nan",
         "access_vector": "nan",
         "impact_availability": "nan",
         "impact_confidentiality": "nan",
         "impact_integrity": "nan",
         "_deepnote_index_column": 4
        }
       ]
      },
      "text/plain": "       Unnamed: 0             mod_date             pub_date  cvss  cwe_code  \\\n0  CVE-2019-16548  2019-11-21 15:15:00  2019-11-21 15:15:00   6.8       352   \n1  CVE-2019-16547  2019-11-21 15:15:00  2019-11-21 15:15:00   4.0       732   \n2  CVE-2019-16546  2019-11-21 15:15:00  2019-11-21 15:15:00   4.3       639   \n3   CVE-2013-2092  2019-11-20 21:22:00  2019-11-20 21:15:00   4.3        79   \n4   CVE-2013-2091  2019-11-20 20:15:00  2019-11-20 20:15:00   7.5        89   \n\n                                            cwe_name  \\\n0                  Cross-Site Request Forgery (CSRF)   \n1   Incorrect Permission Assignment for Critical ...   \n2   Authorization Bypass Through User-Controlled Key   \n3   Improper Neutralization of Input During Web P...   \n4   Improper Neutralization of Special Elements u...   \n\n                                             summary access_authentication  \\\n0  A cross-site request forgery vulnerability in ...                   NaN   \n1  Missing permission checks in various API endpo...                   NaN   \n2  Jenkins Google Compute Engine Plugin 4.1.1 and...                   NaN   \n3  Cross-site Scripting (XSS) in Dolibarr ERP/CRM...                   NaN   \n4  SQL injection vulnerability in Dolibarr ERP/CR...                   NaN   \n\n  access_complexity access_vector impact_availability impact_confidentiality  \\\n0               NaN           NaN                 NaN                    NaN   \n1               NaN           NaN                 NaN                    NaN   \n2               NaN           NaN                 NaN                    NaN   \n3               NaN           NaN                 NaN                    NaN   \n4               NaN           NaN                 NaN                    NaN   \n\n  impact_integrity  \n0              NaN  \n1              NaN  \n2              NaN  \n3              NaN  \n4              NaN  ",
      "text/html": "<div>\n<style scoped>\n    .dataframe tbody tr th:only-of-type {\n        vertical-align: middle;\n    }\n\n    .dataframe tbody tr th {\n        vertical-align: top;\n    }\n\n    .dataframe thead th {\n        text-align: right;\n    }\n</style>\n<table border=\"1\" class=\"dataframe\">\n  <thead>\n    <tr style=\"text-align: right;\">\n      <th></th>\n      <th>Unnamed: 0</th>\n      <th>mod_date</th>\n      <th>pub_date</th>\n      <th>cvss</th>\n      <th>cwe_code</th>\n      <th>cwe_name</th>\n      <th>summary</th>\n      <th>access_authentication</th>\n      <th>access_complexity</th>\n      <th>access_vector</th>\n      <th>impact_availability</th>\n      <th>impact_confidentiality</th>\n      <th>impact_integrity</th>\n    </tr>\n  </thead>\n  <tbody>\n    <tr>\n      <th>0</th>\n      <td>CVE-2019-16548</td>\n      <td>2019-11-21 15:15:00</td>\n      <td>2019-11-21 15:15:00</td>\n      <td>6.8</td>\n      <td>352</td>\n      <td>Cross-Site Request Forgery (CSRF)</td>\n      <td>A cross-site request forgery vulnerability in ...</td>\n      <td>NaN</td>\n      <td>NaN</td>\n      <td>NaN</td>\n      <td>NaN</td>\n      <td>NaN</td>\n      <td>NaN</td>\n    </tr>\n    <tr>\n      <th>1</th>\n      <td>CVE-2019-16547</td>\n      <td>2019-11-21 15:15:00</td>\n      <td>2019-11-21 15:15:00</td>\n      <td>4.0</td>\n      <td>732</td>\n      <td>Incorrect Permission Assignment for Critical ...</td>\n      <td>Missing permission checks in various API endpo...</td>\n      <td>NaN</td>\n      <td>NaN</td>\n      <td>NaN</td>\n      <td>NaN</td>\n      <td>NaN</td>\n      <td>NaN</td>\n    </tr>\n    <tr>\n      <th>2</th>\n      <td>CVE-2019-16546</td>\n      <td>2019-11-21 15:15:00</td>\n      <td>2019-11-21 15:15:00</td>\n      <td>4.3</td>\n      <td>639</td>\n      <td>Authorization Bypass Through User-Controlled Key</td>\n      <td>Jenkins Google Compute Engine Plugin 4.1.1 and...</td>\n      <td>NaN</td>\n      <td>NaN</td>\n      <td>NaN</td>\n      <td>NaN</td>\n      <td>NaN</td>\n      <td>NaN</td>\n    </tr>\n    <tr>\n      <th>3</th>\n      <td>CVE-2013-2092</td>\n      <td>2019-11-20 21:22:00</td>\n      <td>2019-11-20 21:15:00</td>\n      <td>4.3</td>\n      <td>79</td>\n      <td>Improper Neutralization of Input During Web P...</td>\n      <td>Cross-site Scripting (XSS) in Dolibarr ERP/CRM...</td>\n      <td>NaN</td>\n      <td>NaN</td>\n      <td>NaN</td>\n      <td>NaN</td>\n      <td>NaN</td>\n      <td>NaN</td>\n    </tr>\n    <tr>\n      <th>4</th>\n      <td>CVE-2013-2091</td>\n      <td>2019-11-20 20:15:00</td>\n      <td>2019-11-20 20:15:00</td>\n      <td>7.5</td>\n      <td>89</td>\n      <td>Improper Neutralization of Special Elements u...</td>\n      <td>SQL injection vulnerability in Dolibarr ERP/CR...</td>\n      <td>NaN</td>\n      <td>NaN</td>\n      <td>NaN</td>\n      <td>NaN</td>\n      <td>NaN</td>\n      <td>NaN</td>\n    </tr>\n  </tbody>\n</table>\n</div>"
     },
     "metadata": {}
    }
   ],
   "execution_count": 18
  },
  {
   "cell_type": "code",
   "source": "cve.hist(); #gets the matrix of hitograms of all numeric columns",
   "metadata": {
    "cell_id": "c58a65089aa143c497006afb0a6c788a",
    "tags": [],
    "deepnote_to_be_reexecuted": false,
    "source_hash": "c6a917a1",
    "execution_start": 1652203986407,
    "execution_millis": 377,
    "deepnote_cell_type": "code",
    "deepnote_cell_height": 363,
    "deepnote_output_heights": [
     266
    ]
   },
   "outputs": [
    {
     "data": {
      "text/plain": "<Figure size 432x288 with 2 Axes>",
      "image/png": "[encoded data removed]"
     },
     "metadata": {
      "needs_background": "light",
      "image/png": {
       "width": 387,
       "height": 264
      }
     },
     "output_type": "display_data"
    }
   ],
   "execution_count": 13
  },
  {
   "cell_type": "code",
   "metadata": {
    "cell_id": "bf676efc55334fb3a6b9578b0e514d29",
    "tags": [],
    "deepnote_to_be_reexecuted": false,
    "source_hash": "ae3358cb",
    "execution_start": 1652203288825,
    "execution_millis": 102,
    "deepnote_cell_type": "code",
    "deepnote_cell_height": 81
   },
   "source": "vendors = pd.read_csv('/work/vulnerabilities/vendors.csv') # makes dataframe vendors from file vendors.csv",
   "execution_count": 4,
   "outputs": []
  },
  {
   "cell_type": "code",
   "source": "vendors.shape",
   "metadata": {
    "cell_id": "7329c89037d54e3bae06a681440eeb97",
    "tags": [],
    "deepnote_to_be_reexecuted": false,
    "source_hash": "22c60b8",
    "execution_start": 1652204626832,
    "execution_millis": 0,
    "deepnote_cell_type": "code",
    "deepnote_cell_height": 118,
    "deepnote_output_heights": [
     21
    ]
   },
   "outputs": [
    {
     "output_type": "execute_result",
     "execution_count": 14,
     "data": {
      "text/plain": "(101658, 2)"
     },
     "metadata": {}
    }
   ],
   "execution_count": 14
  },
  {
   "cell_type": "code",
   "source": "vendors.info() # get data info for vendors",
   "metadata": {
    "cell_id": "9512032d97c3406fb0af9c4db7d97672",
    "tags": [],
    "deepnote_to_be_reexecuted": false,
    "source_hash": "3d61b321",
    "execution_start": 1652204882490,
    "execution_millis": 592,
    "deepnote_cell_type": "code",
    "deepnote_cell_height": 273.79998779296875
   },
   "outputs": [
    {
     "name": "stdout",
     "text": "<class 'pandas.core.frame.DataFrame'>\nRangeIndex: 101658 entries, 0 to 101657\nData columns (total 2 columns):\n #   Column      Non-Null Count   Dtype \n---  ------      --------------   ----- \n 0   Unnamed: 0  101658 non-null  object\n 1   vendor      101616 non-null  object\ndtypes: object(2)\nmemory usage: 1.6+ MB\n",
     "output_type": "stream"
    }
   ],
   "execution_count": 15
  },
  {
   "cell_type": "code",
   "source": "vendors.head(5)",
   "metadata": {
    "cell_id": "9812a53bd2654b2e82e14fe67db19b72",
    "tags": [],
    "deepnote_to_be_reexecuted": false,
    "source_hash": "d555df4b",
    "execution_start": 1652205069891,
    "execution_millis": 27,
    "deepnote_cell_type": "code",
    "deepnote_cell_height": 395,
    "deepnote_output_heights": [
     271
    ]
   },
   "outputs": [
    {
     "output_type": "execute_result",
     "execution_count": 17,
     "data": {
      "application/vnd.deepnote.dataframe.v3+json": {
       "column_count": 2,
       "row_count": 5,
       "columns": [
        {
         "name": "Unnamed: 0",
         "dtype": "object",
         "stats": {
          "unique_count": 5,
          "nan_count": 0,
          "categories": [
           {
            "name": "CVE-2019-16548",
            "count": 1
           },
           {
            "name": "CVE-2019-16547",
            "count": 1
           },
           {
            "name": "3 others",
            "count": 3
           }
          ]
         }
        },
        {
         "name": "vendor",
         "dtype": "object",
         "stats": {
          "unique_count": 2,
          "nan_count": 0,
          "categories": [
           {
            "name": "jenkins",
            "count": 3
           },
           {
            "name": "dolibarr",
            "count": 2
           }
          ]
         }
        },
        {
         "name": "_deepnote_index_column",
         "dtype": "int64"
        }
       ],
       "rows": [
        {
         "Unnamed: 0": "CVE-2019-16548",
         "vendor": "jenkins",
         "_deepnote_index_column": 0
        },
        {
         "Unnamed: 0": "CVE-2019-16547",
         "vendor": "jenkins",
         "_deepnote_index_column": 1
        },
        {
         "Unnamed: 0": "CVE-2019-16546",
         "vendor": "jenkins",
         "_deepnote_index_column": 2
        },
        {
         "Unnamed: 0": "CVE-2013-2092",
         "vendor": "dolibarr",
         "_deepnote_index_column": 3
        },
        {
         "Unnamed: 0": "CVE-2013-2091",
         "vendor": "dolibarr",
         "_deepnote_index_column": 4
        }
       ]
      },
      "text/plain": "       Unnamed: 0    vendor\n0  CVE-2019-16548   jenkins\n1  CVE-2019-16547   jenkins\n2  CVE-2019-16546   jenkins\n3   CVE-2013-2092  dolibarr\n4   CVE-2013-2091  dolibarr",
      "text/html": "<div>\n<style scoped>\n    .dataframe tbody tr th:only-of-type {\n        vertical-align: middle;\n    }\n\n    .dataframe tbody tr th {\n        vertical-align: top;\n    }\n\n    .dataframe thead th {\n        text-align: right;\n    }\n</style>\n<table border=\"1\" class=\"dataframe\">\n  <thead>\n    <tr style=\"text-align: right;\">\n      <th></th>\n      <th>Unnamed: 0</th>\n      <th>vendor</th>\n    </tr>\n  </thead>\n  <tbody>\n    <tr>\n      <th>0</th>\n      <td>CVE-2019-16548</td>\n      <td>jenkins</td>\n    </tr>\n    <tr>\n      <th>1</th>\n      <td>CVE-2019-16547</td>\n      <td>jenkins</td>\n    </tr>\n    <tr>\n      <th>2</th>\n      <td>CVE-2019-16546</td>\n      <td>jenkins</td>\n    </tr>\n    <tr>\n      <th>3</th>\n      <td>CVE-2013-2092</td>\n      <td>dolibarr</td>\n    </tr>\n    <tr>\n      <th>4</th>\n      <td>CVE-2013-2091</td>\n      <td>dolibarr</td>\n    </tr>\n  </tbody>\n</table>\n</div>"
     },
     "metadata": {}
    }
   ],
   "execution_count": 17
  },
  {
   "cell_type": "code",
   "metadata": {
    "cell_id": "4ef51a84f8ca47d693728ab9408d2966",
    "tags": [],
    "deepnote_to_be_reexecuted": false,
    "source_hash": "427cab19",
    "execution_start": 1652203288931,
    "execution_millis": 61,
    "owner_user_id": "b14ed865-04d1-4fe5-8d75-be61d8fb59ca",
    "deepnote_cell_type": "code",
    "deepnote_cell_height": 81
   },
   "source": "vendor_product = pd.read_csv('/work/vulnerabilities/vendor_product.csv')",
   "execution_count": 5,
   "outputs": []
  },
  {
   "cell_type": "code",
   "metadata": {
    "cell_id": "38c6077e5c4747138cd51bc4289a8d45",
    "tags": [],
    "deepnote_to_be_reexecuted": false,
    "source_hash": "3d37b16f",
    "execution_start": 1652203289040,
    "execution_millis": 115,
    "deepnote_cell_type": "code",
    "deepnote_cell_height": 81
   },
   "source": "products =pd.read_csv('/work/vulnerabilities/products.csv')",
   "execution_count": 6,
   "outputs": []
  },
  {
   "cell_type": "markdown",
   "source": "<a style='text-decoration:none;line-height:16px;display:flex;color:#5B5B62;padding:10px;justify-content:end;' href='https://deepnote.com?utm_source=created-in-deepnote-cell&projectId=ce1dab3c-41cc-442b-83a4-76926e516283' target=\"_blank\">\n<img alt='Created in deepnote.com' style='display:inline;max-height:16px;margin:0px;margin-right:7.5px;' src='data:image/svg+xml;base64,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' > </img>\nCreated in <span style='font-weight:600;margin-left:4px;'>Deepnote</span></a>",
   "metadata": {
    "tags": [],
    "created_in_deepnote_cell": true,
    "deepnote_cell_type": "markdown"
   }
  }
 ],
 "nbformat": 4,
 "nbformat_minor": 2,
 "metadata": {
  "orig_nbformat": 2,
  "deepnote": {},
  "deepnote_notebook_id": "2321d74e-a22a-42f4-8793-b7a0c38b9c0a",
  "deepnote_execution_queue": []
 }
}